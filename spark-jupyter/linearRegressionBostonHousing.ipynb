{
 "cells": [
  {
   "cell_type": "code",
   "execution_count": 3,
   "id": "f5f797d5-296b-480f-961c-bd0c502cfe05",
   "metadata": {},
   "outputs": [
    {
     "name": "stderr",
     "output_type": "stream",
     "text": [
      "                                                                                "
     ]
    },
    {
     "name": "stdout",
     "output_type": "stream",
     "text": [
      "+-------+----+-----+----+-----+-----+----+------+---+---+-------+------+-----+----+\n",
      "|   crim|  zn|indus|chas|  nox|   rm| age|   dis|rad|tax|ptratio|     b|lstat|medv|\n",
      "+-------+----+-----+----+-----+-----+----+------+---+---+-------+------+-----+----+\n",
      "|0.00632|18.0| 2.31|   0|0.538|6.575|65.2|  4.09|  1|296|   15.3| 396.9| 4.98|24.0|\n",
      "|0.02731| 0.0| 7.07|   0|0.469|6.421|78.9|4.9671|  2|242|   17.8| 396.9| 9.14|21.6|\n",
      "|0.02729| 0.0| 7.07|   0|0.469|7.185|61.1|4.9671|  2|242|   17.8|392.83| 4.03|34.7|\n",
      "|0.03237| 0.0| 2.18|   0|0.458|6.998|45.8|6.0622|  3|222|   18.7|394.63| 2.94|33.4|\n",
      "|0.06905| 0.0| 2.18|   0|0.458|7.147|54.2|6.0622|  3|222|   18.7| 396.9| 5.33|36.2|\n",
      "+-------+----+-----+----+-----+-----+----+------+---+---+-------+------+-----+----+\n",
      "only showing top 5 rows\n",
      "\n"
     ]
    }
   ],
   "source": [
    "#boston_housing data and use linear regression\n",
    "from pyspark.sql import SparkSession\n",
    "from pyspark.ml.regression import LinearRegression\n",
    "from pyspark.ml.feature import VectorAssembler\n",
    "from pyspark.ml.evaluation import RegressionEvaluator\n",
    "import logging\n",
    "import warnings\n",
    "\n",
    "# Suppress PySpark and Py4J warnings\n",
    "logging.getLogger(\"py4j\").setLevel(logging.ERROR)\n",
    "logging.getLogger(\"pyspark\").setLevel(logging.ERROR)\n",
    "logging.getLogger(\"sparkConf\").setLevel(logging.ERROR)\n",
    "\n",
    "# Suppress Python warnings\n",
    "warnings.filterwarnings(\"ignore\")\n",
    "\n",
    "# Step 1: Initialize SparkSession\n",
    "spark = SparkSession.builder.appName(\"LinearRegressionBostonHousing\").master(\"spark://spark-master:7077\").getOrCreate()\n",
    "\n",
    "# Step 2: Load the dataset from a CSV file\n",
    "file_path = \"/spark/user/boston_housing.csv\"  # Replace with the path to your CSV file\n",
    "df = spark.read.csv(file_path, header=True, inferSchema=True)\n",
    "df.show(5)"
   ]
  },
  {
   "cell_type": "code",
   "execution_count": 4,
   "id": "b2d50da0-ed60-443b-aa6c-64dbdc0dab66",
   "metadata": {},
   "outputs": [
    {
     "name": "stderr",
     "output_type": "stream",
     "text": [
      "25/02/04 01:16:58 WARN SparkConf: The configuration key 'spark.executor.port' has been deprecated as of Spark 2.0.0 and may be removed in the future. Not used anymore\n",
      "25/02/04 01:16:58 WARN Instrumentation: [41373008] regParam is zero, which might cause numerical instability and overfitting.\n",
      "25/02/04 01:17:00 WARN InstanceBuilder: Failed to load implementation from:dev.ludovic.netlib.blas.JNIBLAS\n",
      "25/02/04 01:17:00 WARN InstanceBuilder: Failed to load implementation from:dev.ludovic.netlib.lapack.JNILAPACK\n",
      "                                                                                "
     ]
    },
    {
     "name": "stdout",
     "output_type": "stream",
     "text": [
      "Root Mean Squared Error (RMSE): 4.671806485171284\n"
     ]
    }
   ],
   "source": [
    "# Step 3: Prepare the data for Linear Regression\n",
    "# Combine all feature columns into a single vector column\n",
    "feature_columns = df.columns[:-1]  # All columns except the last one (target)\n",
    "assembler = VectorAssembler(inputCols=feature_columns, outputCol=\"features\")\n",
    "df = assembler.transform(df)\n",
    "\n",
    "# Step 4: Split the data into training and testing sets\n",
    "train_data, test_data = df.randomSplit([0.8, 0.2], seed=42)\n",
    "\n",
    "# Step 5: Create and train the Linear Regression model\n",
    "lr = LinearRegression(featuresCol=\"features\", labelCol=\"medv\")  # 'medv' is the target column\n",
    "lr_model = lr.fit(train_data)\n",
    "\n",
    "# Step 6: Make predictions on the test data\n",
    "predictions = lr_model.transform(test_data)\n",
    "\n",
    "# Step 7: Evaluate the model\n",
    "evaluator = RegressionEvaluator(labelCol=\"medv\", predictionCol=\"prediction\", metricName=\"rmse\")\n",
    "rmse = evaluator.evaluate(predictions)\n",
    "print(f\"Root Mean Squared Error (RMSE): {rmse}\")"
   ]
  },
  {
   "cell_type": "code",
   "execution_count": 5,
   "id": "5279d288-2974-49b7-9d27-76d13f601d33",
   "metadata": {},
   "outputs": [
    {
     "name": "stdout",
     "output_type": "stream",
     "text": [
      "Predictions:\n"
     ]
    },
    {
     "name": "stderr",
     "output_type": "stream",
     "text": [
      "25/02/04 01:17:20 WARN SparkStringUtils: Truncated the string representation of a plan since it was too large. This behavior can be adjusted by setting 'spark.sql.debug.maxToStringFields'.\n"
     ]
    },
    {
     "name": "stdout",
     "output_type": "stream",
     "text": [
      "+--------------------+----+------------------+\n",
      "|            features|medv|        prediction|\n",
      "+--------------------+----+------------------+\n",
      "|[0.01096,55.0,2.2...|22.0| 27.48227401818613|\n",
      "|[0.01381,80.0,0.4...|50.0| 40.59821928572494|\n",
      "|[0.01439,60.0,2.9...|29.1|31.560171030407233|\n",
      "|[0.01778,95.0,1.4...|32.9|30.504107540914198|\n",
      "|[0.02177,82.5,2.0...|42.3| 36.71084264945604|\n",
      "+--------------------+----+------------------+\n",
      "only showing top 5 rows\n",
      "\n",
      "Model Coefficients:\n",
      "crim: -0.11362203729408954\n",
      "zn: 0.048909186934053925\n",
      "indus: 0.02379542898673389\n",
      "chas: 2.801771998735119\n",
      "nox: -18.4154245411894\n",
      "rm: 3.5158797633120065\n",
      "age: 0.0052116821614709204\n",
      "dis: -1.4163830723539739\n",
      "rad: 0.3317669315937035\n",
      "tax: -0.013607893704163878\n",
      "ptratio: -0.9534143338408072\n",
      "b: 0.008602677392853256\n",
      "lstat: -0.519503531247664\n",
      "Intercept: 38.61699144573437\n"
     ]
    }
   ],
   "source": [
    "# Step 8: Show the predictions\n",
    "print(\"Predictions:\")\n",
    "predictions.select(\"features\", \"medv\", \"prediction\").show(5)\n",
    "\n",
    "# Step 9: Print model coefficients and intercept\n",
    "print(\"Model Coefficients:\")\n",
    "for feature, coef in zip(feature_columns, lr_model.coefficients):\n",
    "    print(f\"{feature}: {coef}\")\n",
    "print(f\"Intercept: {lr_model.intercept}\")\n",
    "\n",
    "# Step 10: Stop the SparkSession\n",
    "spark.stop()"
   ]
  },
  {
   "cell_type": "code",
   "execution_count": null,
   "id": "41968eb2-5fd6-42d4-be8b-2cefe907adee",
   "metadata": {},
   "outputs": [],
   "source": []
  }
 ],
 "metadata": {
  "kernelspec": {
   "display_name": "Python 3 (ipykernel)",
   "language": "python",
   "name": "python3"
  },
  "language_info": {
   "codemirror_mode": {
    "name": "ipython",
    "version": 3
   },
   "file_extension": ".py",
   "mimetype": "text/x-python",
   "name": "python",
   "nbconvert_exporter": "python",
   "pygments_lexer": "ipython3",
   "version": "3.9.2"
  }
 },
 "nbformat": 4,
 "nbformat_minor": 5
}
